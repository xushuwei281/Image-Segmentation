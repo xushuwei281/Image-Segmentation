{
 "cells": [
  {
   "cell_type": "code",
   "execution_count": 1,
   "metadata": {},
   "outputs": [],
   "source": [
    "# Core\n",
    "import numpy as np\n",
    "import cv2\n",
    "from skimage.measure import label, regionprops\n",
    "\n",
    "# Visualization\n",
    "from matplotlib import pyplot as plt\n",
    "import matplotlib.patches as mpatches\n",
    "\n",
    "# File Chooser\n",
    "import tkinter as tk\n",
    "from tkinter import filedialog"
   ]
  },
  {
   "cell_type": "code",
   "execution_count": 2,
   "metadata": {},
   "outputs": [],
   "source": [
    "# Settings & Globals\n",
    "printText = False\n",
    "plot = False\n",
    "\n",
    "kernel = np.ones((3, 3), np.uint8)"
   ]
  },
  {
   "cell_type": "code",
   "execution_count": 3,
   "metadata": {},
   "outputs": [],
   "source": [
    "# Get Image\n",
    "def getImage(file_path=\"\", blockSize=505, C=-2):\n",
    "    root = tk.Tk()\n",
    "    root.withdraw()\n",
    "    if file_path == \"\":\n",
    "        file_path = filedialog.askopenfilename(filetypes=[(\"Image Files\", \".png .jpg\")])\n",
    "    global src_img\n",
    "    src_img = cv2.imread(file_path)\n",
    "    copy = src_img.copy()\n",
    "    copy[:, :, 1] = copy[:, :, 2] = 0\n",
    "    global gray\n",
    "    gray = cv2.cvtColor(copy, cv2.COLOR_BGR2GRAY)\n",
    "    gray = cv2.adaptiveThreshold(\n",
    "        gray, 255, cv2.ADAPTIVE_THRESH_GAUSSIAN_C, cv2.THRESH_BINARY, blockSize, C\n",
    "    )  ########## 2 magic numbers here\n",
    "    if plot:\n",
    "        plt.imshow(gray, cmap=\"gray\")\n",
    "    return gray"
   ]
  },
  {
   "cell_type": "code",
   "execution_count": 4,
   "metadata": {},
   "outputs": [],
   "source": [
    "# Noise Removal\n",
    "def noiseRemoval(gray, openIter=3, closeIter=3):\n",
    "    clean = cv2.morphologyEx(gray, cv2.MORPH_OPEN, kernel, iterations=openIter)\n",
    "    clean = cv2.morphologyEx(clean, cv2.MORPH_CLOSE, kernel, iterations=closeIter)\n",
    "    if plot:\n",
    "        plt.imshow(clean)\n",
    "    return clean"
   ]
  },
  {
   "cell_type": "code",
   "execution_count": 5,
   "metadata": {},
   "outputs": [],
   "source": [
    "# Get Coverage\n",
    "def getCoverage(clean):\n",
    "    coverage = np.count_nonzero(clean) / (clean.shape[0] * clean.shape[1])\n",
    "    if printText:\n",
    "        print(str(coverage) + \"%\")\n",
    "    return coverage"
   ]
  },
  {
   "cell_type": "code",
   "execution_count": 33,
   "metadata": {},
   "outputs": [],
   "source": [
    "# Get Regions\n",
    "def getRegions(clean, blockSize=403, C=-4, minArea=0.00025, boxColor=\"red\"):\n",
    "    sure_bg = cv2.dilate(clean, kernel, iterations=1)\n",
    "    dist_transform = cv2.distanceTransform(sure_bg, cv2.DIST_L2, 0)\n",
    "    dist_transform = np.uint8(dist_transform)\n",
    "    dt_fg = cv2.adaptiveThreshold(\n",
    "        dist_transform, 255, cv2.ADAPTIVE_THRESH_MEAN_C, cv2.THRESH_BINARY, 403, -4\n",
    "    )\n",
    "    unknown = cv2.subtract(sure_bg, dt_fg)\n",
    "    ret, markers = cv2.connectedComponents(dt_fg)\n",
    "    markers = markers + 1\n",
    "    markers[unknown == 255] = 0\n",
    "    shedded = cv2.watershed(src_img, markers)\n",
    "    edge = markers == -1\n",
    "    edge = cv2.dilate(edge.astype(np.uint8), kernel)\n",
    "\n",
    "    fig = plt.figure(frameon=False)\n",
    "    ax = plt.Axes(fig, [0.0, 0.0, 1.0, 1.0])\n",
    "    ax.set_axis_off()\n",
    "    fig.add_axes(ax)\n",
    "    ax.imshow(src_img)\n",
    "\n",
    "    label_image = label(markers)\n",
    "    region_count = 0\n",
    "    height = label_image.shape[1]\n",
    "    width = label_image.shape[0]\n",
    "    for region in regionprops(label_image):\n",
    "        if region.area >= (minArea * height * width):  # Aribtuary\n",
    "            region_count += 1\n",
    "\n",
    "            if plot:\n",
    "                minr, minc, maxr, maxc = region.bbox\n",
    "                rect = mpatches.Rectangle(\n",
    "                    (minc, minr),\n",
    "                    maxc - minc,\n",
    "                    maxr - minr,\n",
    "                    fill=False,\n",
    "                    edgecolor=boxColor,\n",
    "                    linewidth=1,\n",
    "                )\n",
    "                ax.add_patch(rect)\n",
    "\n",
    "    plt.savefig(\"regionsFound.png\")\n",
    "    regionsFound = cv2.imread(\"regionsFound.png\")\n",
    "    regionsFound = cv2.cvtColor(regionsFound, cv2.COLOR_BGR2RGB)\n",
    "\n",
    "    if printText:\n",
    "        print(region_count)\n",
    "\n",
    "    return region_count, regionsFound"
   ]
  },
  {
   "cell_type": "markdown",
   "metadata": {},
   "source": [
    "## Functions"
   ]
  },
  {
   "cell_type": "code",
   "execution_count": 35,
   "metadata": {},
   "outputs": [],
   "source": [
    "def processImage(\n",
    "    file_path=\"\",\n",
    "    blockSize1=505,\n",
    "    C1=-2,\n",
    "    blockSize2=403,\n",
    "    openIter=3,\n",
    "    closeIter=3,\n",
    "    C2=-4,\n",
    "    minArea=0.00025,\n",
    "    boxColor=\"red\",\n",
    "):\n",
    "    gray = getImage(file_path, blockSize1, C1)\n",
    "    clean = noiseRemoval(gray, openIter, closeIter)\n",
    "    coverage = getCoverage(clean)\n",
    "    regionCount, regionsFound = getRegions(clean, blockSize2, C2, minArea, boxColor)\n",
    "    return coverage, regionCount, regionsFound"
   ]
  },
  {
   "cell_type": "code",
   "execution_count": 36,
   "metadata": {},
   "outputs": [],
   "source": [
    "def _init_():\n",
    "    return"
   ]
  },
  {
   "cell_type": "code",
   "execution_count": null,
   "metadata": {},
   "outputs": [],
   "source": [
    "#jupyter nbconvert --to script WrappedScript.ipynb"
   ]
  }
 ],
 "metadata": {
  "kernelspec": {
   "display_name": "Python 3",
   "language": "python",
   "name": "python3"
  },
  "language_info": {
   "codemirror_mode": {
    "name": "ipython",
    "version": 3
   },
   "file_extension": ".py",
   "mimetype": "text/x-python",
   "name": "python",
   "nbconvert_exporter": "python",
   "pygments_lexer": "ipython3",
   "version": "3.7.4"
  }
 },
 "nbformat": 4,
 "nbformat_minor": 4
}
